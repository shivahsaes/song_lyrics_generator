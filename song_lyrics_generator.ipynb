{
  "nbformat": 4,
  "nbformat_minor": 0,
  "metadata": {
    "colab": {
      "name": "Untitled1.ipynb",
      "provenance": []
    },
    "kernelspec": {
      "name": "python3",
      "display_name": "Python 3"
    },
    "accelerator": "GPU"
  },
  "cells": [
    {
      "cell_type": "markdown",
      "metadata": {
        "id": "R5GUZViZHJ4C",
        "colab_type": "text"
      },
      "source": [
        " Installing Dependencies"
      ]
    },
    {
      "cell_type": "code",
      "metadata": {
        "id": "_h-Q9udmHSLU",
        "colab_type": "code",
        "colab": {
          "base_uri": "https://localhost:8080/",
          "height": 671
        },
        "outputId": "e8e15502-42eb-475f-e3e8-bbc84209338f"
      },
      "source": [
        "pip install tensorflow-gpu"
      ],
      "execution_count": null,
      "outputs": [
        {
          "output_type": "stream",
          "text": [
            "Requirement already satisfied: tensorflow-gpu in /usr/local/lib/python3.6/dist-packages (2.2.0)\n",
            "Requirement already satisfied: numpy<2.0,>=1.16.0 in /usr/local/lib/python3.6/dist-packages (from tensorflow-gpu) (1.18.5)\n",
            "Requirement already satisfied: grpcio>=1.8.6 in /usr/local/lib/python3.6/dist-packages (from tensorflow-gpu) (1.30.0)\n",
            "Requirement already satisfied: six>=1.12.0 in /usr/local/lib/python3.6/dist-packages (from tensorflow-gpu) (1.15.0)\n",
            "Requirement already satisfied: tensorboard<2.3.0,>=2.2.0 in /usr/local/lib/python3.6/dist-packages (from tensorflow-gpu) (2.2.2)\n",
            "Requirement already satisfied: tensorflow-estimator<2.3.0,>=2.2.0 in /usr/local/lib/python3.6/dist-packages (from tensorflow-gpu) (2.2.0)\n",
            "Requirement already satisfied: termcolor>=1.1.0 in /usr/local/lib/python3.6/dist-packages (from tensorflow-gpu) (1.1.0)\n",
            "Requirement already satisfied: wrapt>=1.11.1 in /usr/local/lib/python3.6/dist-packages (from tensorflow-gpu) (1.12.1)\n",
            "Requirement already satisfied: wheel>=0.26; python_version >= \"3\" in /usr/local/lib/python3.6/dist-packages (from tensorflow-gpu) (0.34.2)\n",
            "Requirement already satisfied: scipy==1.4.1; python_version >= \"3\" in /usr/local/lib/python3.6/dist-packages (from tensorflow-gpu) (1.4.1)\n",
            "Requirement already satisfied: absl-py>=0.7.0 in /usr/local/lib/python3.6/dist-packages (from tensorflow-gpu) (0.9.0)\n",
            "Requirement already satisfied: opt-einsum>=2.3.2 in /usr/local/lib/python3.6/dist-packages (from tensorflow-gpu) (3.2.1)\n",
            "Requirement already satisfied: h5py<2.11.0,>=2.10.0 in /usr/local/lib/python3.6/dist-packages (from tensorflow-gpu) (2.10.0)\n",
            "Requirement already satisfied: gast==0.3.3 in /usr/local/lib/python3.6/dist-packages (from tensorflow-gpu) (0.3.3)\n",
            "Requirement already satisfied: keras-preprocessing>=1.1.0 in /usr/local/lib/python3.6/dist-packages (from tensorflow-gpu) (1.1.2)\n",
            "Requirement already satisfied: google-pasta>=0.1.8 in /usr/local/lib/python3.6/dist-packages (from tensorflow-gpu) (0.2.0)\n",
            "Requirement already satisfied: protobuf>=3.8.0 in /usr/local/lib/python3.6/dist-packages (from tensorflow-gpu) (3.12.2)\n",
            "Requirement already satisfied: astunparse==1.6.3 in /usr/local/lib/python3.6/dist-packages (from tensorflow-gpu) (1.6.3)\n",
            "Requirement already satisfied: markdown>=2.6.8 in /usr/local/lib/python3.6/dist-packages (from tensorboard<2.3.0,>=2.2.0->tensorflow-gpu) (3.2.2)\n",
            "Requirement already satisfied: tensorboard-plugin-wit>=1.6.0 in /usr/local/lib/python3.6/dist-packages (from tensorboard<2.3.0,>=2.2.0->tensorflow-gpu) (1.7.0)\n",
            "Requirement already satisfied: google-auth-oauthlib<0.5,>=0.4.1 in /usr/local/lib/python3.6/dist-packages (from tensorboard<2.3.0,>=2.2.0->tensorflow-gpu) (0.4.1)\n",
            "Requirement already satisfied: setuptools>=41.0.0 in /usr/local/lib/python3.6/dist-packages (from tensorboard<2.3.0,>=2.2.0->tensorflow-gpu) (49.1.0)\n",
            "Requirement already satisfied: google-auth<2,>=1.6.3 in /usr/local/lib/python3.6/dist-packages (from tensorboard<2.3.0,>=2.2.0->tensorflow-gpu) (1.17.2)\n",
            "Requirement already satisfied: werkzeug>=0.11.15 in /usr/local/lib/python3.6/dist-packages (from tensorboard<2.3.0,>=2.2.0->tensorflow-gpu) (1.0.1)\n",
            "Requirement already satisfied: requests<3,>=2.21.0 in /usr/local/lib/python3.6/dist-packages (from tensorboard<2.3.0,>=2.2.0->tensorflow-gpu) (2.23.0)\n",
            "Requirement already satisfied: importlib-metadata; python_version < \"3.8\" in /usr/local/lib/python3.6/dist-packages (from markdown>=2.6.8->tensorboard<2.3.0,>=2.2.0->tensorflow-gpu) (1.7.0)\n",
            "Requirement already satisfied: requests-oauthlib>=0.7.0 in /usr/local/lib/python3.6/dist-packages (from google-auth-oauthlib<0.5,>=0.4.1->tensorboard<2.3.0,>=2.2.0->tensorflow-gpu) (1.3.0)\n",
            "Requirement already satisfied: rsa<5,>=3.1.4; python_version >= \"3\" in /usr/local/lib/python3.6/dist-packages (from google-auth<2,>=1.6.3->tensorboard<2.3.0,>=2.2.0->tensorflow-gpu) (4.6)\n",
            "Requirement already satisfied: cachetools<5.0,>=2.0.0 in /usr/local/lib/python3.6/dist-packages (from google-auth<2,>=1.6.3->tensorboard<2.3.0,>=2.2.0->tensorflow-gpu) (4.1.1)\n",
            "Requirement already satisfied: pyasn1-modules>=0.2.1 in /usr/local/lib/python3.6/dist-packages (from google-auth<2,>=1.6.3->tensorboard<2.3.0,>=2.2.0->tensorflow-gpu) (0.2.8)\n",
            "Requirement already satisfied: urllib3!=1.25.0,!=1.25.1,<1.26,>=1.21.1 in /usr/local/lib/python3.6/dist-packages (from requests<3,>=2.21.0->tensorboard<2.3.0,>=2.2.0->tensorflow-gpu) (1.24.3)\n",
            "Requirement already satisfied: chardet<4,>=3.0.2 in /usr/local/lib/python3.6/dist-packages (from requests<3,>=2.21.0->tensorboard<2.3.0,>=2.2.0->tensorflow-gpu) (3.0.4)\n",
            "Requirement already satisfied: idna<3,>=2.5 in /usr/local/lib/python3.6/dist-packages (from requests<3,>=2.21.0->tensorboard<2.3.0,>=2.2.0->tensorflow-gpu) (2.10)\n",
            "Requirement already satisfied: certifi>=2017.4.17 in /usr/local/lib/python3.6/dist-packages (from requests<3,>=2.21.0->tensorboard<2.3.0,>=2.2.0->tensorflow-gpu) (2020.6.20)\n",
            "Requirement already satisfied: zipp>=0.5 in /usr/local/lib/python3.6/dist-packages (from importlib-metadata; python_version < \"3.8\"->markdown>=2.6.8->tensorboard<2.3.0,>=2.2.0->tensorflow-gpu) (3.1.0)\n",
            "Requirement already satisfied: oauthlib>=3.0.0 in /usr/local/lib/python3.6/dist-packages (from requests-oauthlib>=0.7.0->google-auth-oauthlib<0.5,>=0.4.1->tensorboard<2.3.0,>=2.2.0->tensorflow-gpu) (3.1.0)\n",
            "Requirement already satisfied: pyasn1>=0.1.3 in /usr/local/lib/python3.6/dist-packages (from rsa<5,>=3.1.4; python_version >= \"3\"->google-auth<2,>=1.6.3->tensorboard<2.3.0,>=2.2.0->tensorflow-gpu) (0.4.8)\n"
          ],
          "name": "stdout"
        }
      ]
    },
    {
      "cell_type": "code",
      "metadata": {
        "id": "JSXxWkoqHUlY",
        "colab_type": "code",
        "colab": {}
      },
      "source": [
        " import tensorflow as tf\n",
        "from tensorflow.keras.preprocessing.sequence import pad_sequences\n",
        "from tensorflow.keras.layers import Embedding, LSTM, Dense, Dropout, Bidirectional\n",
        "from tensorflow.keras.preprocessing.text import Tokenizer\n",
        "from tensorflow.keras.models import Sequential\n",
        "from tensorflow.keras.optimizers import Adam\n",
        "from tensorflow.keras import regularizers\n",
        "import tensorflow.keras.utils as ku \n",
        "import numpy as np\n",
        "import pandas as pd"
      ],
      "execution_count": null,
      "outputs": []
    },
    {
      "cell_type": "markdown",
      "metadata": {
        "id": "fpXg3VKpHg9q",
        "colab_type": "text"
      },
      "source": [
        "Downloading the dataset"
      ]
    },
    {
      "cell_type": "code",
      "metadata": {
        "id": "D0Yd_6nlHpZP",
        "colab_type": "code",
        "colab": {
          "base_uri": "https://localhost:8080/",
          "height": 311
        },
        "outputId": "75c3377a-7834-4b98-eff6-4ccc4c28c84a"
      },
      "source": [
        " !wget \"https://github.com/datasigntist/datasetsForTraining/raw/master/songlyrics.zip\""
      ],
      "execution_count": null,
      "outputs": [
        {
          "output_type": "stream",
          "text": [
            "--2020-07-24 15:54:45--  https://github.com/datasigntist/datasetsForTraining/raw/master/songlyrics.zip\n",
            "Resolving github.com (github.com)... 140.82.112.4\n",
            "Connecting to github.com (github.com)|140.82.112.4|:443... connected.\n",
            "HTTP request sent, awaiting response... 302 Found\n",
            "Location: https://raw.githubusercontent.com/datasigntist/datasetsForTraining/master/songlyrics.zip [following]\n",
            "--2020-07-24 15:54:46--  https://raw.githubusercontent.com/datasigntist/datasetsForTraining/master/songlyrics.zip\n",
            "Resolving raw.githubusercontent.com (raw.githubusercontent.com)... 151.101.0.133, 151.101.64.133, 151.101.128.133, ...\n",
            "Connecting to raw.githubusercontent.com (raw.githubusercontent.com)|151.101.0.133|:443... connected.\n",
            "HTTP request sent, awaiting response... 200 OK\n",
            "Length: 21988108 (21M) [application/zip]\n",
            "Saving to: ‘songlyrics.zip.1’\n",
            "\n",
            "songlyrics.zip.1    100%[===================>]  20.97M  30.0MB/s    in 0.7s    \n",
            "\n",
            "2020-07-24 15:54:47 (30.0 MB/s) - ‘songlyrics.zip.1’ saved [21988108/21988108]\n",
            "\n"
          ],
          "name": "stdout"
        }
      ]
    },
    {
      "cell_type": "code",
      "metadata": {
        "id": "oKOyJeurIOiT",
        "colab_type": "code",
        "colab": {
          "base_uri": "https://localhost:8080/",
          "height": 88
        },
        "outputId": "c7bc47e9-52d9-4fb8-b601-546168124868"
      },
      "source": [
        "!unzip /content/songlyrics.zip"
      ],
      "execution_count": null,
      "outputs": [
        {
          "output_type": "stream",
          "text": [
            "Archive:  /content/songlyrics.zip\n",
            "replace songdata.csv? [y]es, [n]o, [A]ll, [N]one, [r]ename: y\n",
            "  inflating: songdata.csv            \n"
          ],
          "name": "stdout"
        }
      ]
    },
    {
      "cell_type": "markdown",
      "metadata": {
        "id": "_At5XifVInC0",
        "colab_type": "text"
      },
      "source": [
        "Artist Name"
      ]
    },
    {
      "cell_type": "code",
      "metadata": {
        "id": "Wr-M1FyTIpQI",
        "colab_type": "code",
        "colab": {
          "base_uri": "https://localhost:8080/",
          "height": 34
        },
        "outputId": "5f2ce97d-f520-4d1d-df19-9cc8b3c248c4"
      },
      "source": [
        "artistName = input (\"Enter the artist Name : \")\n",
        "artistName = str(artistName)"
      ],
      "execution_count": null,
      "outputs": [
        {
          "output_type": "stream",
          "text": [
            "Enter the artist Name : ABBA\n"
          ],
          "name": "stdout"
        }
      ]
    },
    {
      "cell_type": "markdown",
      "metadata": {
        "id": "QrvdnjDDJBpn",
        "colab_type": "text"
      },
      "source": [
        "Loading the Dataset"
      ]
    },
    {
      "cell_type": "code",
      "metadata": {
        "id": "CIqDfsYYJcBH",
        "colab_type": "code",
        "colab": {}
      },
      "source": [
        "songdata=pd.read_csv(\"/content/songdata.csv\")"
      ],
      "execution_count": null,
      "outputs": []
    },
    {
      "cell_type": "code",
      "metadata": {
        "id": "I32r3BWnJjjD",
        "colab_type": "code",
        "colab": {
          "base_uri": "https://localhost:8080/",
          "height": 634
        },
        "outputId": "ef4d752b-2616-4cef-c41e-520456494144"
      },
      "source": [
        "songdata.head()"
      ],
      "execution_count": null,
      "outputs": [
        {
          "output_type": "execute_result",
          "data": {
            "text/html": [
              "<div>\n",
              "<style scoped>\n",
              "    .dataframe tbody tr th:only-of-type {\n",
              "        vertical-align: middle;\n",
              "    }\n",
              "\n",
              "    .dataframe tbody tr th {\n",
              "        vertical-align: top;\n",
              "    }\n",
              "\n",
              "    .dataframe thead th {\n",
              "        text-align: right;\n",
              "    }\n",
              "</style>\n",
              "<table border=\"1\" class=\"dataframe\">\n",
              "  <thead>\n",
              "    <tr style=\"text-align: right;\">\n",
              "      <th></th>\n",
              "      <th>artist</th>\n",
              "      <th>song</th>\n",
              "      <th>link</th>\n",
              "      <th>text</th>\n",
              "    </tr>\n",
              "  </thead>\n",
              "  <tbody>\n",
              "    <tr>\n",
              "      <th>0</th>\n",
              "      <td>ABBA</td>\n",
              "      <td>Ahe's My Kind Of Girl</td>\n",
              "      <td>/a/abba/ahes+my+kind+of+girl_20598417.html</td>\n",
              "      <td>Look at her face, it's a wonderful face  \\nAnd...</td>\n",
              "    </tr>\n",
              "    <tr>\n",
              "      <th>1</th>\n",
              "      <td>ABBA</td>\n",
              "      <td>Andante, Andante</td>\n",
              "      <td>/a/abba/andante+andante_20002708.html</td>\n",
              "      <td>Take it easy with me, please  \\nTouch me gentl...</td>\n",
              "    </tr>\n",
              "    <tr>\n",
              "      <th>2</th>\n",
              "      <td>ABBA</td>\n",
              "      <td>As Good As New</td>\n",
              "      <td>/a/abba/as+good+as+new_20003033.html</td>\n",
              "      <td>I'll never know why I had to go  \\nWhy I had t...</td>\n",
              "    </tr>\n",
              "    <tr>\n",
              "      <th>3</th>\n",
              "      <td>ABBA</td>\n",
              "      <td>Bang</td>\n",
              "      <td>/a/abba/bang_20598415.html</td>\n",
              "      <td>Making somebody happy is a question of give an...</td>\n",
              "    </tr>\n",
              "    <tr>\n",
              "      <th>4</th>\n",
              "      <td>ABBA</td>\n",
              "      <td>Bang-A-Boomerang</td>\n",
              "      <td>/a/abba/bang+a+boomerang_20002668.html</td>\n",
              "      <td>Making somebody happy is a question of give an...</td>\n",
              "    </tr>\n",
              "  </tbody>\n",
              "</table>\n",
              "</div>"
            ],
            "text/plain": [
              "  artist  ...                                               text\n",
              "0   ABBA  ...  Look at her face, it's a wonderful face  \\nAnd...\n",
              "1   ABBA  ...  Take it easy with me, please  \\nTouch me gentl...\n",
              "2   ABBA  ...  I'll never know why I had to go  \\nWhy I had t...\n",
              "3   ABBA  ...  Making somebody happy is a question of give an...\n",
              "4   ABBA  ...  Making somebody happy is a question of give an...\n",
              "\n",
              "[5 rows x 4 columns]"
            ]
          },
          "metadata": {
            "tags": []
          },
          "execution_count": 8
        }
      ]
    },
    {
      "cell_type": "code",
      "metadata": {
        "id": "I0BowhbiK36v",
        "colab_type": "code",
        "colab": {}
      },
      "source": [
        "songdata.drop([\"link\"],axis=1,inplace=True)"
      ],
      "execution_count": null,
      "outputs": []
    },
    {
      "cell_type": "code",
      "metadata": {
        "id": "ceYKpj_ILKnm",
        "colab_type": "code",
        "colab": {
          "base_uri": "https://localhost:8080/",
          "height": 374
        },
        "outputId": "275494c8-2c89-4812-bff2-39f85551a588"
      },
      "source": [
        "songdata.head()"
      ],
      "execution_count": null,
      "outputs": [
        {
          "output_type": "execute_result",
          "data": {
            "text/html": [
              "<div>\n",
              "<style scoped>\n",
              "    .dataframe tbody tr th:only-of-type {\n",
              "        vertical-align: middle;\n",
              "    }\n",
              "\n",
              "    .dataframe tbody tr th {\n",
              "        vertical-align: top;\n",
              "    }\n",
              "\n",
              "    .dataframe thead th {\n",
              "        text-align: right;\n",
              "    }\n",
              "</style>\n",
              "<table border=\"1\" class=\"dataframe\">\n",
              "  <thead>\n",
              "    <tr style=\"text-align: right;\">\n",
              "      <th></th>\n",
              "      <th>artist</th>\n",
              "      <th>song</th>\n",
              "      <th>text</th>\n",
              "    </tr>\n",
              "  </thead>\n",
              "  <tbody>\n",
              "    <tr>\n",
              "      <th>0</th>\n",
              "      <td>ABBA</td>\n",
              "      <td>Ahe's My Kind Of Girl</td>\n",
              "      <td>Look at her face, it's a wonderful face  \\nAnd...</td>\n",
              "    </tr>\n",
              "    <tr>\n",
              "      <th>1</th>\n",
              "      <td>ABBA</td>\n",
              "      <td>Andante, Andante</td>\n",
              "      <td>Take it easy with me, please  \\nTouch me gentl...</td>\n",
              "    </tr>\n",
              "    <tr>\n",
              "      <th>2</th>\n",
              "      <td>ABBA</td>\n",
              "      <td>As Good As New</td>\n",
              "      <td>I'll never know why I had to go  \\nWhy I had t...</td>\n",
              "    </tr>\n",
              "    <tr>\n",
              "      <th>3</th>\n",
              "      <td>ABBA</td>\n",
              "      <td>Bang</td>\n",
              "      <td>Making somebody happy is a question of give an...</td>\n",
              "    </tr>\n",
              "    <tr>\n",
              "      <th>4</th>\n",
              "      <td>ABBA</td>\n",
              "      <td>Bang-A-Boomerang</td>\n",
              "      <td>Making somebody happy is a question of give an...</td>\n",
              "    </tr>\n",
              "  </tbody>\n",
              "</table>\n",
              "</div>"
            ],
            "text/plain": [
              "  artist  ...                                               text\n",
              "0   ABBA  ...  Look at her face, it's a wonderful face  \\nAnd...\n",
              "1   ABBA  ...  Take it easy with me, please  \\nTouch me gentl...\n",
              "2   ABBA  ...  I'll never know why I had to go  \\nWhy I had t...\n",
              "3   ABBA  ...  Making somebody happy is a question of give an...\n",
              "4   ABBA  ...  Making somebody happy is a question of give an...\n",
              "\n",
              "[5 rows x 3 columns]"
            ]
          },
          "metadata": {
            "tags": []
          },
          "execution_count": 10
        }
      ]
    },
    {
      "cell_type": "markdown",
      "metadata": {
        "id": "E0isInArJovw",
        "colab_type": "text"
      },
      "source": [
        "Filtering the songs according to artist name"
      ]
    },
    {
      "cell_type": "code",
      "metadata": {
        "id": "3YXFw-h0KPuf",
        "colab_type": "code",
        "colab": {}
      },
      "source": [
        "songByArtist=songdata[songdata[\"artist\"] == artistName]"
      ],
      "execution_count": null,
      "outputs": []
    },
    {
      "cell_type": "code",
      "metadata": {
        "id": "mC535WXgKply",
        "colab_type": "code",
        "colab": {
          "base_uri": "https://localhost:8080/",
          "height": 374
        },
        "outputId": "389e2f57-ec07-49cb-927a-78f867ec96e2"
      },
      "source": [
        "songByArtist.head()"
      ],
      "execution_count": null,
      "outputs": [
        {
          "output_type": "execute_result",
          "data": {
            "text/html": [
              "<div>\n",
              "<style scoped>\n",
              "    .dataframe tbody tr th:only-of-type {\n",
              "        vertical-align: middle;\n",
              "    }\n",
              "\n",
              "    .dataframe tbody tr th {\n",
              "        vertical-align: top;\n",
              "    }\n",
              "\n",
              "    .dataframe thead th {\n",
              "        text-align: right;\n",
              "    }\n",
              "</style>\n",
              "<table border=\"1\" class=\"dataframe\">\n",
              "  <thead>\n",
              "    <tr style=\"text-align: right;\">\n",
              "      <th></th>\n",
              "      <th>artist</th>\n",
              "      <th>song</th>\n",
              "      <th>text</th>\n",
              "    </tr>\n",
              "  </thead>\n",
              "  <tbody>\n",
              "    <tr>\n",
              "      <th>0</th>\n",
              "      <td>ABBA</td>\n",
              "      <td>Ahe's My Kind Of Girl</td>\n",
              "      <td>Look at her face, it's a wonderful face  \\nAnd...</td>\n",
              "    </tr>\n",
              "    <tr>\n",
              "      <th>1</th>\n",
              "      <td>ABBA</td>\n",
              "      <td>Andante, Andante</td>\n",
              "      <td>Take it easy with me, please  \\nTouch me gentl...</td>\n",
              "    </tr>\n",
              "    <tr>\n",
              "      <th>2</th>\n",
              "      <td>ABBA</td>\n",
              "      <td>As Good As New</td>\n",
              "      <td>I'll never know why I had to go  \\nWhy I had t...</td>\n",
              "    </tr>\n",
              "    <tr>\n",
              "      <th>3</th>\n",
              "      <td>ABBA</td>\n",
              "      <td>Bang</td>\n",
              "      <td>Making somebody happy is a question of give an...</td>\n",
              "    </tr>\n",
              "    <tr>\n",
              "      <th>4</th>\n",
              "      <td>ABBA</td>\n",
              "      <td>Bang-A-Boomerang</td>\n",
              "      <td>Making somebody happy is a question of give an...</td>\n",
              "    </tr>\n",
              "  </tbody>\n",
              "</table>\n",
              "</div>"
            ],
            "text/plain": [
              "  artist  ...                                               text\n",
              "0   ABBA  ...  Look at her face, it's a wonderful face  \\nAnd...\n",
              "1   ABBA  ...  Take it easy with me, please  \\nTouch me gentl...\n",
              "2   ABBA  ...  I'll never know why I had to go  \\nWhy I had t...\n",
              "3   ABBA  ...  Making somebody happy is a question of give an...\n",
              "4   ABBA  ...  Making somebody happy is a question of give an...\n",
              "\n",
              "[5 rows x 3 columns]"
            ]
          },
          "metadata": {
            "tags": []
          },
          "execution_count": 14
        }
      ]
    },
    {
      "cell_type": "code",
      "metadata": {
        "id": "svfK9ZjFLt2T",
        "colab_type": "code",
        "colab": {
          "base_uri": "https://localhost:8080/",
          "height": 34
        },
        "outputId": "9b3595cd-99a6-45f7-b999-a3aea0e0fd7a"
      },
      "source": [
        "#no of songs by artist\n",
        "print(\"Total no.of songs by \", artistName,\": \",songByArtist.shape[0])"
      ],
      "execution_count": null,
      "outputs": [
        {
          "output_type": "stream",
          "text": [
            "Total no.of songs by  ABBA :  113\n"
          ],
          "name": "stdout"
        }
      ]
    },
    {
      "cell_type": "markdown",
      "metadata": {
        "id": "8A8OFtWVN5et",
        "colab_type": "text"
      },
      "source": [
        "Joining all the text into one list"
      ]
    },
    {
      "cell_type": "code",
      "metadata": {
        "id": "nKNDkNsFOA7F",
        "colab_type": "code",
        "colab": {}
      },
      "source": [
        "databyArtist=\"\\n\".join(songByArtist[\"text\"])"
      ],
      "execution_count": null,
      "outputs": []
    },
    {
      "cell_type": "code",
      "metadata": {
        "id": "IUW0ii5wOZgK",
        "colab_type": "code",
        "colab": {}
      },
      "source": [
        "#lowering all the text and naming to corpus variable\n",
        "Corpus=databyArtist.lower().split(\"\\n\")"
      ],
      "execution_count": null,
      "outputs": []
    },
    {
      "cell_type": "code",
      "metadata": {
        "id": "rF1okcnZSscG",
        "colab_type": "code",
        "colab": {
          "base_uri": "https://localhost:8080/",
          "height": 34
        },
        "outputId": "e5708954-dc15-46ab-90d4-dcb664be7789"
      },
      "source": [
        "len(Corpus)"
      ],
      "execution_count": null,
      "outputs": [
        {
          "output_type": "execute_result",
          "data": {
            "text/plain": [
              "5147"
            ]
          },
          "metadata": {
            "tags": []
          },
          "execution_count": 18
        }
      ]
    },
    {
      "cell_type": "code",
      "metadata": {
        "id": "ADKPOyWNOnpH",
        "colab_type": "code",
        "colab": {
          "base_uri": "https://localhost:8080/",
          "height": 208
        },
        "outputId": "937372e1-452f-4cab-b655-8101f9265ec8"
      },
      "source": [
        "Corpus[0:10]"
      ],
      "execution_count": null,
      "outputs": [
        {
          "output_type": "execute_result",
          "data": {
            "text/plain": [
              "[\"look at her face, it's a wonderful face  \",\n",
              " 'and it means something special to me  ',\n",
              " 'look at the way that she smiles when she sees me  ',\n",
              " 'how lucky can one fellow be?  ',\n",
              " '  ',\n",
              " \"she's just my kind of girl, she makes me feel fine  \",\n",
              " 'who could ever believe that she could be mine?  ',\n",
              " \"she's just my kind of girl, without her i'm blue  \",\n",
              " 'and if she ever leaves me what could i do, what could i do?  ',\n",
              " '  ']"
            ]
          },
          "metadata": {
            "tags": []
          },
          "execution_count": 19
        }
      ]
    },
    {
      "cell_type": "markdown",
      "metadata": {
        "id": "wsoVF0SgNCR1",
        "colab_type": "text"
      },
      "source": [
        "Removing useless characters\n",
        " \n",
        " *Get rid of words like [chorus:] that do not mean anything\n",
        "  \n",
        "\n",
        "*Strip the empty sapces, remove any empty lines and get rid of specical characters like \"(\" , \")\" , \"\", \"/\" , \".\", \",\",\":\""
      ]
    },
    {
      "cell_type": "code",
      "metadata": {
        "id": "cu6Ug7idQbHk",
        "colab_type": "code",
        "colab": {}
      },
      "source": [
        "stopWords = [\"(\",\")\",\"/\",\"\\\\\",\".\",\",\",\":\",'\"']\n",
        "wordsTobeRemoved = [\"[chorus:]\"]"
      ],
      "execution_count": null,
      "outputs": []
    },
    {
      "cell_type": "code",
      "metadata": {
        "id": "49vFTWAgQr-i",
        "colab_type": "code",
        "colab": {}
      },
      "source": [
        " for loop in range(len(wordsTobeRemoved)):\n",
        "  Corpus = [line.replace(wordsTobeRemoved[loop],\"\") for line in Corpus]"
      ],
      "execution_count": null,
      "outputs": []
    },
    {
      "cell_type": "code",
      "metadata": {
        "id": "Vcuj4Z-nSN9t",
        "colab_type": "code",
        "colab": {
          "base_uri": "https://localhost:8080/",
          "height": 34
        },
        "outputId": "b0718a77-921a-4b8f-e8c4-af7125d844e1"
      },
      "source": [
        "len(Corpus)"
      ],
      "execution_count": null,
      "outputs": [
        {
          "output_type": "execute_result",
          "data": {
            "text/plain": [
              "5147"
            ]
          },
          "metadata": {
            "tags": []
          },
          "execution_count": 22
        }
      ]
    },
    {
      "cell_type": "code",
      "metadata": {
        "id": "jKlSe_ptS2o6",
        "colab_type": "code",
        "colab": {
          "base_uri": "https://localhost:8080/",
          "height": 154
        },
        "outputId": "23dbcc6a-32a0-4c1b-de89-f4e6b745c189"
      },
      "source": [
        " for loop in range(len(stopWords)):\n",
        "  print(stopWords[loop])\n",
        "  Corpus = [line.replace(stopWords[loop],\"\") for line in Corpus]"
      ],
      "execution_count": null,
      "outputs": [
        {
          "output_type": "stream",
          "text": [
            "(\n",
            ")\n",
            "/\n",
            "\\\n",
            ".\n",
            ",\n",
            ":\n",
            "\"\n"
          ],
          "name": "stdout"
        }
      ]
    },
    {
      "cell_type": "code",
      "metadata": {
        "id": "V3nxrADGS-lN",
        "colab_type": "code",
        "colab": {}
      },
      "source": [
        "#removing white spaces\n",
        " \n",
        "Corpus = [elem.strip() for elem in Corpus if elem.strip()!=\"\"]"
      ],
      "execution_count": null,
      "outputs": []
    },
    {
      "cell_type": "code",
      "metadata": {
        "id": "lJm_jmkrTLCI",
        "colab_type": "code",
        "colab": {
          "base_uri": "https://localhost:8080/",
          "height": 34
        },
        "outputId": "b242d561-0849-4ed9-e06c-dbdb9cb2939c"
      },
      "source": [
        "print(\"Total No of linea after Cleaning:\",len(Corpus))"
      ],
      "execution_count": null,
      "outputs": [
        {
          "output_type": "stream",
          "text": [
            "Total No of linea after Cleaning: 4331\n"
          ],
          "name": "stdout"
        }
      ]
    },
    {
      "cell_type": "markdown",
      "metadata": {
        "id": "81DqkTagTh3h",
        "colab_type": "text"
      },
      "source": [
        "TOKENIZING"
      ]
    },
    {
      "cell_type": "code",
      "metadata": {
        "id": "uZuiG00MTlgW",
        "colab_type": "code",
        "colab": {}
      },
      "source": [
        "tokenizer = Tokenizer(oov_token=\"OOV\")\n",
        "tokenizer.fit_on_texts(Corpus)\n",
        "total_words = len(tokenizer.word_index) + 1"
      ],
      "execution_count": null,
      "outputs": []
    },
    {
      "cell_type": "code",
      "metadata": {
        "id": "nSeuPcjhbAgj",
        "colab_type": "code",
        "colab": {}
      },
      "source": [
        " # Reverse the word index\n",
        "reverseWordIndex = {v: k for k, v in tokenizer.word_index.items()}"
      ],
      "execution_count": null,
      "outputs": []
    },
    {
      "cell_type": "markdown",
      "metadata": {
        "id": "NOmHOhc2boVK",
        "colab_type": "text"
      },
      "source": [
        " N-gram Sequence"
      ]
    },
    {
      "cell_type": "code",
      "metadata": {
        "id": "u1YcIv-ddmZl",
        "colab_type": "code",
        "colab": {}
      },
      "source": [
        "input_sequences = []\n",
        "for line in Corpus:\n",
        "  token_list = tokenizer.texts_to_sequences([line])[0]\n",
        "  for i in range(1,len(token_list)):\n",
        "    n_gram_sequence = token_list[:i+1]\n",
        "    input_sequences.append(n_gram_sequence)"
      ],
      "execution_count": null,
      "outputs": []
    },
    {
      "cell_type": "markdown",
      "metadata": {
        "id": "pDYmiw_-dwbA",
        "colab_type": "text"
      },
      "source": [
        " Padding the Sequence to maximum length"
      ]
    },
    {
      "cell_type": "code",
      "metadata": {
        "id": "lF_SFm0QdyGa",
        "colab_type": "code",
        "colab": {}
      },
      "source": [
        "max_len_sequence = max([len(x) for x in input_sequences])"
      ],
      "execution_count": null,
      "outputs": []
    },
    {
      "cell_type": "code",
      "metadata": {
        "id": "X9e-9-tmd1qc",
        "colab_type": "code",
        "colab": {
          "base_uri": "https://localhost:8080/",
          "height": 34
        },
        "outputId": "8e4ccbc2-252a-4217-9395-3421025c6e7e"
      },
      "source": [
        " print(\"Maximum length of sequence is \", max_len_sequence)"
      ],
      "execution_count": null,
      "outputs": [
        {
          "output_type": "stream",
          "text": [
            "Maximum length of sequence is  20\n"
          ],
          "name": "stdout"
        }
      ]
    },
    {
      "cell_type": "code",
      "metadata": {
        "id": "ajFRQfVid54k",
        "colab_type": "code",
        "colab": {}
      },
      "source": [
        " input_sequences = np.array(pad_sequences(input_sequences,maxlen=max_len_sequence,padding=\"pre\"))"
      ],
      "execution_count": null,
      "outputs": []
    },
    {
      "cell_type": "markdown",
      "metadata": {
        "id": "AEw6Fn_Terbz",
        "colab_type": "text"
      },
      "source": [
        " Defining the input and the labels"
      ]
    },
    {
      "cell_type": "code",
      "metadata": {
        "id": "pM9xgeQ6esaS",
        "colab_type": "code",
        "colab": {}
      },
      "source": [
        "xs = input_sequences[:,:-1]\n",
        "labels = input_sequences[:,-1]"
      ],
      "execution_count": null,
      "outputs": []
    },
    {
      "cell_type": "markdown",
      "metadata": {
        "id": "OV7uc-yZe42U",
        "colab_type": "text"
      },
      "source": [
        " Converting the labels to one hot encoding"
      ]
    },
    {
      "cell_type": "code",
      "metadata": {
        "id": "YBKf8zgbe6uW",
        "colab_type": "code",
        "colab": {}
      },
      "source": [
        "ys = tf.keras.utils.to_categorical(labels,num_classes=total_words)"
      ],
      "execution_count": null,
      "outputs": []
    },
    {
      "cell_type": "code",
      "metadata": {
        "id": "bdET35qKe1IQ",
        "colab_type": "code",
        "colab": {
          "base_uri": "https://localhost:8080/",
          "height": 34
        },
        "outputId": "ec794b79-392d-457a-de6b-fb0fd4863958"
      },
      "source": [
        "np.argmax(ys[0])\n",
        "print(ys[0][309])"
      ],
      "execution_count": null,
      "outputs": [
        {
          "output_type": "stream",
          "text": [
            "0.0\n"
          ],
          "name": "stdout"
        }
      ]
    },
    {
      "cell_type": "markdown",
      "metadata": {
        "id": "rZ2KeAoxfMNG",
        "colab_type": "text"
      },
      "source": [
        " Building the model"
      ]
    },
    {
      "cell_type": "code",
      "metadata": {
        "id": "zDWY-kW2fSqB",
        "colab_type": "code",
        "colab": {}
      },
      "source": [
        "embeddingSize = 500\n",
        "nodeCount = 150"
      ],
      "execution_count": null,
      "outputs": []
    },
    {
      "cell_type": "code",
      "metadata": {
        "id": "DEWKFjuSfVo4",
        "colab_type": "code",
        "colab": {
          "base_uri": "https://localhost:8080/",
          "height": 380
        },
        "outputId": "484e9d4a-5d2c-406d-c813-1e62131596f3"
      },
      "source": [
        "model = Sequential()\n",
        "model.add(Embedding(total_words, embeddingSize, input_length=max_len_sequence-1))\n",
        "model.add(Bidirectional(LSTM(nodeCount, return_sequences = True)))\n",
        "model.add(Bidirectional(LSTM(nodeCount, return_sequences = True)))\n",
        "model.add(LSTM(nodeCount))\n",
        "model.add(Dense(total_words, activation='relu'))\n",
        "model.add(Dense(total_words, activation='softmax'))\n",
        "model.compile(loss='categorical_crossentropy', optimizer='adam', metrics=['accuracy'])\n",
        "model.summary()"
      ],
      "execution_count": null,
      "outputs": [
        {
          "output_type": "stream",
          "text": [
            "Model: \"sequential\"\n",
            "_________________________________________________________________\n",
            "Layer (type)                 Output Shape              Param #   \n",
            "=================================================================\n",
            "embedding (Embedding)        (None, 19, 500)           1171500   \n",
            "_________________________________________________________________\n",
            "bidirectional (Bidirectional (None, 19, 300)           781200    \n",
            "_________________________________________________________________\n",
            "bidirectional_1 (Bidirection (None, 19, 300)           541200    \n",
            "_________________________________________________________________\n",
            "lstm_2 (LSTM)                (None, 150)               270600    \n",
            "_________________________________________________________________\n",
            "dense (Dense)                (None, 2343)              353793    \n",
            "_________________________________________________________________\n",
            "dense_1 (Dense)              (None, 2343)              5491992   \n",
            "=================================================================\n",
            "Total params: 8,610,285\n",
            "Trainable params: 8,610,285\n",
            "Non-trainable params: 0\n",
            "_________________________________________________________________\n"
          ],
          "name": "stdout"
        }
      ]
    },
    {
      "cell_type": "markdown",
      "metadata": {
        "id": "0hLKU2SvffMa",
        "colab_type": "text"
      },
      "source": [
        " Embedding Analysis"
      ]
    },
    {
      "cell_type": "code",
      "metadata": {
        "id": "0W8Nc_7-fiuy",
        "colab_type": "code",
        "colab": {
          "base_uri": "https://localhost:8080/",
          "height": 34
        },
        "outputId": "cfe49743-24d3-4b39-84a3-4b7ee6ceebc4"
      },
      "source": [
        "e = model.layers[0]\n",
        "weights = e.get_weights()[0]\n",
        "print(weights.shape) # shape: (vocab_size, embedding_dim)\n",
        "word_index = tokenizer.word_index"
      ],
      "execution_count": null,
      "outputs": [
        {
          "output_type": "stream",
          "text": [
            "(2343, 500)\n"
          ],
          "name": "stdout"
        }
      ]
    },
    {
      "cell_type": "code",
      "metadata": {
        "id": "kKZK17ktfmZC",
        "colab_type": "code",
        "colab": {
          "base_uri": "https://localhost:8080/",
          "height": 68
        },
        "outputId": "43fed2bf-e623-4ca6-bfbc-ec03b9ef8fb9"
      },
      "source": [
        "happy_key = word_index[\"happy\"]\n",
        "happy_word = reverseWordIndex[happy_key]\n",
        "print(\"Key for Happy is :\", happy_key)\n",
        "happy_embeddings = weights[happy_key]\n",
        "print('Embeddings for Happy is :-->\\n', happy_embeddings.shape)"
      ],
      "execution_count": null,
      "outputs": [
        {
          "output_type": "stream",
          "text": [
            "Key for Happy is : 154\n",
            "Embeddings for Happy is :-->\n",
            " (500,)\n"
          ],
          "name": "stdout"
        }
      ]
    },
    {
      "cell_type": "code",
      "metadata": {
        "id": "vK5Y3ZJYf6I2",
        "colab_type": "code",
        "colab": {
          "base_uri": "https://localhost:8080/",
          "height": 68
        },
        "outputId": "0553817c-138a-4075-ebe5-822bd1660cae"
      },
      "source": [
        "glad_key = word_index[\"glad\"]\n",
        "glad_word = reverseWordIndex[glad_key]\n",
        "print(\"Key for Glad is :\", glad_key)\n",
        "glad_embeddings = weights[glad_key]\n",
        "print('Embeddings for Glad is :-->\\n', glad_embeddings.shape)"
      ],
      "execution_count": null,
      "outputs": [
        {
          "output_type": "stream",
          "text": [
            "Key for Glad is : 396\n",
            "Embeddings for Glad is :-->\n",
            " (500,)\n"
          ],
          "name": "stdout"
        }
      ]
    },
    {
      "cell_type": "code",
      "metadata": {
        "id": "pR3FTfkzf_73",
        "colab_type": "code",
        "colab": {
          "base_uri": "https://localhost:8080/",
          "height": 68
        },
        "outputId": "b6e7c2d6-5ddc-4e4a-94a9-b8939938ded8"
      },
      "source": [
        "sad_key = word_index[\"sad\"]\n",
        "sad_word = reverseWordIndex[sad_key]\n",
        "print(\"Key for sad is :\", sad_key)\n",
        "sad_embeddings = weights[sad_key]\n",
        "print('Embeddings for sad is :-->\\n', sad_embeddings.shape)"
      ],
      "execution_count": null,
      "outputs": [
        {
          "output_type": "stream",
          "text": [
            "Key for sad is : 277\n",
            "Embeddings for sad is :-->\n",
            " (500,)\n"
          ],
          "name": "stdout"
        }
      ]
    },
    {
      "cell_type": "markdown",
      "metadata": {
        "id": "BUye8u0pgIxF",
        "colab_type": "text"
      },
      "source": [
        " Training and Testing"
      ]
    },
    {
      "cell_type": "code",
      "metadata": {
        "id": "jQKlW_ZRlKWt",
        "colab_type": "code",
        "colab": {}
      },
      "source": [
        "#use 100 epochs for better performance"
      ],
      "execution_count": null,
      "outputs": []
    },
    {
      "cell_type": "code",
      "metadata": {
        "id": "wiGcsF4hgGK5",
        "colab_type": "code",
        "colab": {
          "base_uri": "https://localhost:8080/",
          "height": 723
        },
        "outputId": "5a4803fb-de3b-4ee6-9cfd-1a94690fd296"
      },
      "source": [
        "history = model.fit(xs, ys, epochs=20, verbose=1)"
      ],
      "execution_count": null,
      "outputs": [
        {
          "output_type": "stream",
          "text": [
            "Epoch 1/20\n",
            "763/763 [==============================] - 47s 61ms/step - loss: 6.0582 - accuracy: 0.0438\n",
            "Epoch 2/20\n",
            "763/763 [==============================] - 47s 61ms/step - loss: 5.5208 - accuracy: 0.0692\n",
            "Epoch 3/20\n",
            "763/763 [==============================] - 47s 61ms/step - loss: 5.2514 - accuracy: 0.0907\n",
            "Epoch 4/20\n",
            "763/763 [==============================] - 47s 61ms/step - loss: 5.0256 - accuracy: 0.1075\n",
            "Epoch 5/20\n",
            "763/763 [==============================] - 47s 61ms/step - loss: 4.8099 - accuracy: 0.1257\n",
            "Epoch 6/20\n",
            "763/763 [==============================] - 47s 61ms/step - loss: 4.6173 - accuracy: 0.1408\n",
            "Epoch 7/20\n",
            "763/763 [==============================] - 47s 61ms/step - loss: 4.4328 - accuracy: 0.1564\n",
            "Epoch 8/20\n",
            "763/763 [==============================] - 47s 61ms/step - loss: 4.2370 - accuracy: 0.1762\n",
            "Epoch 9/20\n",
            "763/763 [==============================] - 47s 61ms/step - loss: 4.0229 - accuracy: 0.1989\n",
            "Epoch 10/20\n",
            "763/763 [==============================] - 47s 61ms/step - loss: 3.7933 - accuracy: 0.2271\n",
            "Epoch 11/20\n",
            "763/763 [==============================] - 47s 62ms/step - loss: 3.5614 - accuracy: 0.2575\n",
            "Epoch 12/20\n",
            "763/763 [==============================] - 47s 61ms/step - loss: 3.3190 - accuracy: 0.2879\n",
            "Epoch 13/20\n",
            "763/763 [==============================] - 47s 61ms/step - loss: 3.0863 - accuracy: 0.3230\n",
            "Epoch 14/20\n",
            "763/763 [==============================] - 47s 61ms/step - loss: 2.8486 - accuracy: 0.3647\n",
            "Epoch 15/20\n",
            "763/763 [==============================] - 47s 61ms/step - loss: 2.6232 - accuracy: 0.3997\n",
            "Epoch 16/20\n",
            "763/763 [==============================] - 47s 61ms/step - loss: 2.4182 - accuracy: 0.4356\n",
            "Epoch 17/20\n",
            "763/763 [==============================] - 47s 62ms/step - loss: 2.2182 - accuracy: 0.4696\n",
            "Epoch 18/20\n",
            "763/763 [==============================] - 47s 61ms/step - loss: 2.0316 - accuracy: 0.5050\n",
            "Epoch 19/20\n",
            "763/763 [==============================] - 47s 61ms/step - loss: 1.8704 - accuracy: 0.5328\n",
            "Epoch 20/20\n",
            "763/763 [==============================] - 47s 61ms/step - loss: 1.7195 - accuracy: 0.5627\n"
          ],
          "name": "stdout"
        }
      ]
    },
    {
      "cell_type": "code",
      "metadata": {
        "id": "xmloTqgTgSrQ",
        "colab_type": "code",
        "colab": {}
      },
      "source": [
        " import matplotlib.pyplot as plt\n",
        " \n",
        "def plot_graphs(history,string):\n",
        "  plt.plot(history.history[string])\n",
        "  plt.xlabel(\"Epochs\")\n",
        "  plt.ylabel(string)\n",
        "  plt.show()"
      ],
      "execution_count": null,
      "outputs": []
    },
    {
      "cell_type": "code",
      "metadata": {
        "id": "1uR9x5HTgWd7",
        "colab_type": "code",
        "colab": {
          "base_uri": "https://localhost:8080/",
          "height": 236
        },
        "outputId": "5c017e3b-e46f-429c-fe04-f3b909194bff"
      },
      "source": [
        "plot_graphs(history,'accuracy')"
      ],
      "execution_count": null,
      "outputs": [
        {
          "output_type": "display_data",
          "data": {
            "image/png": "[encoded data removed]",
            "text/plain": [
              "<Figure size 432x288 with 1 Axes>"
            ]
          },
          "metadata": {
            "tags": [],
            "needs_background": "light"
          }
        }
      ]
    },
    {
      "cell_type": "markdown",
      "metadata": {
        "id": "t7tZ3ZLoghQV",
        "colab_type": "text"
      },
      "source": [
        " Predict using the trained model"
      ]
    },
    {
      "cell_type": "code",
      "metadata": {
        "id": "b0SycCqvgdFP",
        "colab_type": "code",
        "colab": {}
      },
      "source": [
        "songByArtist = songByArtist.reset_index()"
      ],
      "execution_count": null,
      "outputs": []
    },
    {
      "cell_type": "code",
      "metadata": {
        "id": "y2R7bf0QgqYK",
        "colab_type": "code",
        "colab": {
          "base_uri": "https://localhost:8080/",
          "height": 34
        },
        "outputId": "bc389405-17b3-4e93-d4ba-34ba621e06f2"
      },
      "source": [
        "minLengthOfASong = int(np.min([len(songByArtist[\"text\"][key].split(\"\\n\")) for key in range(songByArtist.shape[0])]))\n",
        "print(\"Min Length of a Song :\",minLengthOfASong,' lines')"
      ],
      "execution_count": null,
      "outputs": [
        {
          "output_type": "stream",
          "text": [
            "Min Length of a Song : 14  lines\n"
          ],
          "name": "stdout"
        }
      ]
    },
    {
      "cell_type": "code",
      "metadata": {
        "id": "fdjf76VEguQw",
        "colab_type": "code",
        "colab": {}
      },
      "source": [
        "allSongDataByArtist = [songByArtist[\"text\"][key].split(\"\\n\") for key in range(songByArtist.shape[0])]"
      ],
      "execution_count": null,
      "outputs": []
    },
    {
      "cell_type": "code",
      "metadata": {
        "id": "eA8pTJ38hBbJ",
        "colab_type": "code",
        "colab": {
          "base_uri": "https://localhost:8080/",
          "height": 34
        },
        "outputId": "35436d2c-3273-4f6b-8bfd-8be12a9dec70"
      },
      "source": [
        "wordsByLines = []\n",
        "for loop1 in range(len(allSongDataByArtist)):\n",
        "  for loop2 in range(minLengthOfASong):\n",
        "    if (loop1 == 0):\n",
        "      wordsByLines.append(len([elem.strip() for elem in allSongDataByArtist[loop1][loop2].split(\" \") if elem.strip()!=\"\"]))\n",
        "    else:\n",
        "      wordsByLines[loop2] = (wordsByLines[loop2]+len([elem.strip() for elem in allSongDataByArtist[loop1][loop2].split(\" \") if elem.strip()!=\"\"]))/2\n",
        "wordsInTotal = int(sum(wordsByLines))\n",
        "print(\"Average number of words per song :\",wordsInTotal)"
      ],
      "execution_count": null,
      "outputs": [
        {
          "output_type": "stream",
          "text": [
            "Average number of words per song : 85\n"
          ],
          "name": "stdout"
        }
      ]
    },
    {
      "cell_type": "code",
      "metadata": {
        "id": "2PpcBf01g0Yh",
        "colab_type": "code",
        "colab": {
          "base_uri": "https://localhost:8080/",
          "height": 54
        },
        "outputId": "a5909ea7-c248-431e-8f76-9d60e8003f87"
      },
      "source": [
        "seed_text = \"We loved\"\n",
        "next_words = wordsInTotal\n",
        "  \n",
        "for _ in range(next_words):\n",
        "    token_list = tokenizer.texts_to_sequences([seed_text])[0]\n",
        "    token_list = pad_sequences([token_list], maxlen=max_len_sequence-1, padding='pre')\n",
        "    predicted = (model.predict_classes(token_list, verbose=0))\n",
        "    output_word = \"\"\n",
        "    for word, index in tokenizer.word_index.items():\n",
        "        if index == predicted:\n",
        "            output_word = word\n",
        "            break\n",
        "    seed_text += \" \" + output_word\n",
        "print(seed_text)"
      ],
      "execution_count": null,
      "outputs": [
        {
          "output_type": "stream",
          "text": [
            "We loved me cry and now i have to say place and now i can't would hear it may did i think i could hear it tight it ah ha ha ah ha ah ha ha ah ha ah ha ah ha ah ha ah ha ah ha ah ha ah ha ah ha ah ha ah ha ah ha ah ha ah ha ah ha ah ha ah ha ah ha ah ha ah ha ah ha ah ha ah ha ah ha ah ha ah\n"
          ],
          "name": "stdout"
        }
      ]
    },
    {
      "cell_type": "code",
      "metadata": {
        "id": "mhSz8IaDg94i",
        "colab_type": "code",
        "colab": {}
      },
      "source": [
        "newSong = [elem for elem in seed_text.split(\" \")]"
      ],
      "execution_count": null,
      "outputs": []
    },
    {
      "cell_type": "code",
      "metadata": {
        "id": "EDARa5dyhOFn",
        "colab_type": "code",
        "colab": {}
      },
      "source": [
        "wordsByLines = [int(elem) for elem in wordsByLines]"
      ],
      "execution_count": null,
      "outputs": []
    },
    {
      "cell_type": "code",
      "metadata": {
        "id": "w0XEnisWhSjx",
        "colab_type": "code",
        "colab": {
          "base_uri": "https://localhost:8080/",
          "height": 257
        },
        "outputId": "38e4b194-3342-45ee-e636-e0a82ad52d58"
      },
      "source": [
        "startPos = 0\n",
        "endPos = 0\n",
        "for loop in range(len(wordsByLines)):\n",
        "  endPos = endPos + wordsByLines[loop]\n",
        "  print(' '.join(elem for elem in newSong[startPos:endPos]))\n",
        "  startPos = endPos"
      ],
      "execution_count": null,
      "outputs": [
        {
          "output_type": "stream",
          "text": [
            "We loved me cry and now i have\n",
            "to say place and now i\n",
            "can't would hear it may did i\n",
            "think i could hear it tight it\n",
            "ah ha ha\n",
            "ah ha ah ha ha ah ha ah\n",
            "ha ah ha ah ha ah\n",
            "ha ah ha ah ha\n",
            "ah ha ah ha\n",
            "ah ha ah\n",
            "ha ah ha ah ha\n",
            "ah ha ah ha ah\n",
            "ha ah ha ah ha ah\n",
            "ha ah ha ah\n"
          ],
          "name": "stdout"
        }
      ]
    }
  ]
}